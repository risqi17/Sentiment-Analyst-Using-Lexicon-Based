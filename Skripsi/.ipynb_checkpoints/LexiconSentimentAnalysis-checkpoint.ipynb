{
 "cells": [
  {
   "cell_type": "code",
   "execution_count": 1,
   "metadata": {},
   "outputs": [],
   "source": [
    "from pandas import DataFrame, read_csv\n",
    "import pandas as pd\n",
    "import numpy as np\n",
    "from wordcloud import WordCloud,STOPWORDS\n",
    "import matplotlib.pyplot as plt\n",
    "%matplotlib inline\n",
    "import re\n",
    "tweets = []"
   ]
  },
  {
   "cell_type": "code",
   "execution_count": 2,
   "metadata": {},
   "outputs": [],
   "source": [
    "datacoba = pd.read_csv('jajal.csv', delimiter=',')"
   ]
  },
  {
   "cell_type": "code",
   "execution_count": 3,
   "metadata": {
    "scrolled": true
   },
   "outputs": [
    {
     "data": {
      "text/html": [
       "<div>\n",
       "<style scoped>\n",
       "    .dataframe tbody tr th:only-of-type {\n",
       "        vertical-align: middle;\n",
       "    }\n",
       "\n",
       "    .dataframe tbody tr th {\n",
       "        vertical-align: top;\n",
       "    }\n",
       "\n",
       "    .dataframe thead th {\n",
       "        text-align: right;\n",
       "    }\n",
       "</style>\n",
       "<table border=\"1\" class=\"dataframe\">\n",
       "  <thead>\n",
       "    <tr style=\"text-align: right;\">\n",
       "      <th></th>\n",
       "      <th>date</th>\n",
       "      <th>username</th>\n",
       "      <th>tweet</th>\n",
       "    </tr>\n",
       "  </thead>\n",
       "  <tbody>\n",
       "    <tr>\n",
       "      <th>0</th>\n",
       "      <td>10/02/2018</td>\n",
       "      <td>tasalinayohana</td>\n",
       "      <td>@KAI121 Apakah masih cukup banyak?</td>\n",
       "    </tr>\n",
       "    <tr>\n",
       "      <th>1</th>\n",
       "      <td>10/02/2018</td>\n",
       "      <td>tasalinayohana</td>\n",
       "      <td>@KAI121 KRD tujuan Stasiun Waru ke Stasiun Bab...</td>\n",
       "    </tr>\n",
       "    <tr>\n",
       "      <th>2</th>\n",
       "      <td>10/02/2018</td>\n",
       "      <td>missen_ria</td>\n",
       "      <td>@KAI121 mau tanya untuk kereta ekonomi majapah...</td>\n",
       "    </tr>\n",
       "    <tr>\n",
       "      <th>3</th>\n",
       "      <td>10/02/2018</td>\n",
       "      <td>r10_dm</td>\n",
       "      <td>@KAI121 @CommuterLine @krlmania ada apa nih ka...</td>\n",
       "    </tr>\n",
       "    <tr>\n",
       "      <th>4</th>\n",
       "      <td>10/02/2018</td>\n",
       "      <td>danangs79</td>\n",
       "      <td>@KAI121 saat ini pembangunan double track purw...</td>\n",
       "    </tr>\n",
       "    <tr>\n",
       "      <th>5</th>\n",
       "      <td>10/02/2018</td>\n",
       "      <td>dhandynurima</td>\n",
       "      <td>@KAI121 min kalau mau ubah jadwal keberangkata...</td>\n",
       "    </tr>\n",
       "    <tr>\n",
       "      <th>6</th>\n",
       "      <td>10/02/2018</td>\n",
       "      <td>tio04879478</td>\n",
       "      <td>@KAI121 Kalau Gajayana Malang-Gambir tanggal b...</td>\n",
       "    </tr>\n",
       "    <tr>\n",
       "      <th>7</th>\n",
       "      <td>10/02/2018</td>\n",
       "      <td>rovigh1309</td>\n",
       "      <td>@KAI121 selamat pagi, sya ingin menanyakan u/ ...</td>\n",
       "    </tr>\n",
       "    <tr>\n",
       "      <th>8</th>\n",
       "      <td>10/02/2018</td>\n",
       "      <td>dhefiieyputri1</td>\n",
       "      <td>@KAI121 min, mau tanya apakah tiket penataran ...</td>\n",
       "    </tr>\n",
       "  </tbody>\n",
       "</table>\n",
       "</div>"
      ],
      "text/plain": [
       "         date        username  \\\n",
       "0  10/02/2018  tasalinayohana   \n",
       "1  10/02/2018  tasalinayohana   \n",
       "2  10/02/2018      missen_ria   \n",
       "3  10/02/2018          r10_dm   \n",
       "4  10/02/2018       danangs79   \n",
       "5  10/02/2018    dhandynurima   \n",
       "6  10/02/2018     tio04879478   \n",
       "7  10/02/2018      rovigh1309   \n",
       "8  10/02/2018  dhefiieyputri1   \n",
       "\n",
       "                                               tweet  \n",
       "0                 @KAI121 Apakah masih cukup banyak?  \n",
       "1  @KAI121 KRD tujuan Stasiun Waru ke Stasiun Bab...  \n",
       "2  @KAI121 mau tanya untuk kereta ekonomi majapah...  \n",
       "3  @KAI121 @CommuterLine @krlmania ada apa nih ka...  \n",
       "4  @KAI121 saat ini pembangunan double track purw...  \n",
       "5  @KAI121 min kalau mau ubah jadwal keberangkata...  \n",
       "6  @KAI121 Kalau Gajayana Malang-Gambir tanggal b...  \n",
       "7  @KAI121 selamat pagi, sya ingin menanyakan u/ ...  \n",
       "8  @KAI121 min, mau tanya apakah tiket penataran ...  "
      ]
     },
     "execution_count": 3,
     "metadata": {},
     "output_type": "execute_result"
    }
   ],
   "source": [
    "datacoba.head(9)"
   ]
  },
  {
   "cell_type": "code",
   "execution_count": 4,
   "metadata": {},
   "outputs": [
    {
     "name": "stdout",
     "output_type": "stream",
     "text": [
      "0                   @KAI121 Apakah masih cukup banyak?\n",
      "1    @KAI121 KRD tujuan Stasiun Waru ke Stasiun Bab...\n",
      "2    @KAI121 mau tanya untuk kereta ekonomi majapah...\n",
      "3    @KAI121 @CommuterLine @krlmania ada apa nih ka...\n",
      "4    @KAI121 saat ini pembangunan double track purw...\n",
      "5    @KAI121 min kalau mau ubah jadwal keberangkata...\n",
      "6    @KAI121 Kalau Gajayana Malang-Gambir tanggal b...\n",
      "7    @KAI121 selamat pagi, sya ingin menanyakan u/ ...\n",
      "8    @KAI121 min, mau tanya apakah tiket penataran ...\n",
      "Name: tweet, dtype: object\n"
     ]
    }
   ],
   "source": [
    "print(datacoba['tweet'])"
   ]
  },
  {
   "cell_type": "markdown",
   "metadata": {},
   "source": [
    "- menghapus karakter tidak penting"
   ]
  },
  {
   "cell_type": "code",
   "execution_count": null,
   "metadata": {},
   "outputs": [],
   "source": []
  },
  {
   "cell_type": "code",
   "execution_count": 5,
   "metadata": {},
   "outputs": [
    {
     "name": "stdout",
     "output_type": "stream",
     "text": [
      " I'm flying your #fabulous #Seductive skies again! U take all the #stress away from travel\n"
     ]
    }
   ],
   "source": [
    "#datacoba['tweet'] = re.sub('(?<=^|(?<=[^a-zA-Z0-9-_.]))@([A-Za-z]+[A-Za-z0-9]+)','',datacoba['tweet'])\n",
    "line = \"@virginmedia I'm flying your #fabulous #Seductive skies again! U take all the #stress away from travel\"\n",
    "line = re.sub('(?<=^|(?<=[^a-zA-Z0-9-_.]))@([A-Za-z]+[A-Za-z0-9]+)','',line)\n",
    "print(line)"
   ]
  },
  {
   "cell_type": "code",
   "execution_count": 8,
   "metadata": {},
   "outputs": [
    {
     "name": "stdout",
     "output_type": "stream",
     "text": [
      " Apakah masih cukup banyak?\n",
      " KRD tujuan Stasiun Waru ke Stasiun Babat untuk hari ini apakah masih tersedia tiket dgn tempat duduk?\n",
      " mau tanya untuk kereta ekonomi majapahit tujuan Stasiun Malang-Pasar Senen itu kan tempat duduknya 2-2, itu menghadap kedepan semua seperti ekonomi premium atau berhadap2an seperti kereta kutojaya misalnya. Thanks\n",
      "   ada apa nih kajj pada telat kayaknya, 1321a ditahan dicikarang 2ka,tambun 1ka,entah nanti bekasi, cakung, jatinegara?\n",
      " saat ini pembangunan double track purwokerto-kutoarjo. Usul kalo kereta berhenti rada lama karena silang dengan kereta lain ada pemberitahuan dari petugas di KA\n",
      " min kalau mau ubah jadwal keberangkatan tiket jarak jauh bisa revisi via call center ga min?\n",
      " Kalau Gajayana Malang-Gambir tanggal berapa ya? Semoga waktu tempuhnya bisa dipercepat lagi.karena dengan harga tiket pesawat Malang-Jakarta tidak terpaut jauh.\n",
      " selamat pagi, sya ingin menanyakan u/ rescedule tiket itu bagaimana terus apakah dikenakan biaya? Saya pembelian 2 tiket seharga 200 rb mau sya rescedule dg harga 370 rb sama u/ 2 tiket juga, berarti saya harus menambah biaya lg berapa? Thanks\n",
      " min, mau tanya apakah tiket penataran doho Malang ke Kediri tgl 2 Oktober masih tersedia tempat duduk ?\n"
     ]
    }
   ],
   "source": [
    "for tweet in datacoba['tweet']:\n",
    "    line = re.sub('(?<=^|(?<=[^a-zA-Z0-9-_.]))@([A-Za-z]+[A-Za-z0-9]+)','',tweet)\n",
    "    line = line.lower()\n",
    "    print(line)"
   ]
  },
  {
   "cell_type": "code",
   "execution_count": null,
   "metadata": {},
   "outputs": [],
   "source": []
  },
  {
   "cell_type": "code",
   "execution_count": null,
   "metadata": {},
   "outputs": [],
   "source": []
  }
 ],
 "metadata": {
  "kernelspec": {
   "display_name": "Python 3",
   "language": "python",
   "name": "python3"
  },
  "language_info": {
   "codemirror_mode": {
    "name": "ipython",
    "version": 3
   },
   "file_extension": ".py",
   "mimetype": "text/x-python",
   "name": "python",
   "nbconvert_exporter": "python",
   "pygments_lexer": "ipython3",
   "version": "3.6.5"
  }
 },
 "nbformat": 4,
 "nbformat_minor": 2
}
