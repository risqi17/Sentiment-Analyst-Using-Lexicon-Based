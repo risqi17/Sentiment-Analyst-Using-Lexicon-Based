{
 "cells": [
  {
   "cell_type": "code",
   "execution_count": 7,
   "metadata": {},
   "outputs": [],
   "source": [
    "import re\n",
    "import pandas as pd"
   ]
  },
  {
   "cell_type": "code",
   "execution_count": 2,
   "metadata": {},
   "outputs": [],
   "source": [
    "#mulai\n",
    "def preprocessTweet(tweet):\n",
    "    #menjadikan huruf kecil\n",
    "    tweet = tweet.lower()\n",
    "    \n",
    "    #menghapus url\n",
    "    tweet = re.sub('((www\\.[^\\s]+)|(https?://[^\\s]+))','',tweet)\n",
    "    \n",
    "    #menghapus spasi tambahan\n",
    "    tweet = re.sub('[\\s]+', ' ', tweet)\n",
    "    \n",
    "    #menghapus hashtag\n",
    "    tweet = re.sub(r'#([^\\s]+)', r'\\1', tweet)\n",
    "    \n",
    "    #menghapus mention\n",
    "    tweet = re.sub('@[^\\s]+','',tweet)\n",
    "    \n",
    "    #trim\n",
    "    tweet = tweet.strip('\\'\"')\n",
    "    return tweet\n",
    "#end"
   ]
  },
  {
   "cell_type": "code",
   "execution_count": 13,
   "metadata": {},
   "outputs": [
    {
     "data": {
      "text/plain": [
       "0                   @KAI121 Apakah masih cukup banyak?\n",
       "1    @KAI121 KRD tujuan Stasiun Waru ke Stasiun Bab...\n",
       "2    @KAI121 mau tanya untuk kereta ekonomi majapah...\n",
       "3    @KAI121 @CommuterLine @krlmania ada apa nih ka...\n",
       "4    @KAI121 saat ini pembangunan double track purw...\n",
       "5    @KAI121 min kalau mau ubah jadwal keberangkata...\n",
       "6    @KAI121 Kalau Gajayana Malang-Gambir tanggal b...\n",
       "7    @KAI121 selamat pagi, sya ingin menanyakan u/ ...\n",
       "8    @KAI121 min, mau tanya apakah tiket penataran ...\n",
       "Name: tweet, dtype: object"
      ]
     },
     "execution_count": 13,
     "metadata": {},
     "output_type": "execute_result"
    }
   ],
   "source": [
    "#open csv file\n",
    "data = pd.read_csv('jajal.csv', delimiter=',')\n",
    "data['tweet'].head(9)\n",
    "print(data['tweet'])\n",
    "#fp = open('jajal.csv', 'r')\n",
    "#line = fp.readline()"
   ]
  },
  {
   "cell_type": "code",
   "execution_count": 6,
   "metadata": {},
   "outputs": [
    {
     "name": "stdout",
     "output_type": "stream",
     "text": [
      "date,username,tweet \n",
      "10/02/2018,tasalinayohana, apakah masih cukup banyak? \n",
      "10/02/2018,tasalinayohana, krd tujuan stasiun waru ke stasiun babat untuk hari ini apakah masih tersedia tiket dgn tempat duduk? \n",
      "10/02/2018,missen_ria,\" mau tanya untuk kereta ekonomi majapahit tujuan stasiun malang-pasar senen itu kan tempat duduknya 2-2, itu menghadap kedepan semua seperti ekonomi premium atau berhadap2an seperti kereta kutojaya misalnya. thanks\" \n",
      "10/02/2018,r10_dm,\"   ada apa nih kajj pada telat kayaknya, 1321a ditahan dicikarang 2ka,tambun 1ka,entah nanti bekasi, cakung, jatinegara?\" \n",
      "10/02/2018,danangs79, saat ini pembangunan double track purwokerto-kutoarjo. usul kalo kereta berhenti rada lama karena silang dengan kereta lain ada pemberitahuan dari petugas di ka \n",
      "10/02/2018,dhandynurima, min kalau mau ubah jadwal keberangkatan tiket jarak jauh bisa revisi via call center ga min? \n",
      "10/02/2018,tio04879478, kalau gajayana malang-gambir tanggal berapa ya? semoga waktu tempuhnya bisa dipercepat lagi.karena dengan harga tiket pesawat malang-jakarta tidak terpaut jauh. \n",
      "10/02/2018,rovigh1309,\" selamat pagi, sya ingin menanyakan u/ rescedule tiket itu bagaimana terus apakah dikenakan biaya? saya pembelian 2 tiket seharga 200 rb mau sya rescedule dg harga 370 rb sama u/ 2 tiket juga, berarti saya harus menambah biaya lg berapa? thanks\" \n",
      "10/02/2018,dhefiieyputri1,\" min, mau tanya apakah tiket penataran doho malang ke kediri tgl 2 oktober masih tersedia tempat duduk ?\" \n"
     ]
    }
   ],
   "source": [
    "while line:\n",
    "    preprocessedTweet = preprocessTweet(line)\n",
    "    print(preprocessedTweet)\n",
    "    line = fp.readline()\n",
    "#endwhile\n",
    "fp.close()"
   ]
  },
  {
   "cell_type": "code",
   "execution_count": null,
   "metadata": {},
   "outputs": [],
   "source": []
  }
 ],
 "metadata": {
  "kernelspec": {
   "display_name": "Python 3",
   "language": "python",
   "name": "python3"
  },
  "language_info": {
   "codemirror_mode": {
    "name": "ipython",
    "version": 3
   },
   "file_extension": ".py",
   "mimetype": "text/x-python",
   "name": "python",
   "nbconvert_exporter": "python",
   "pygments_lexer": "ipython3",
   "version": "3.6.5"
  }
 },
 "nbformat": 4,
 "nbformat_minor": 2
}
