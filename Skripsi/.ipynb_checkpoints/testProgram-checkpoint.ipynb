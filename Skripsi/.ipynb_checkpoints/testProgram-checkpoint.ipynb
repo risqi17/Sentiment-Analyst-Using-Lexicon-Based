{
 "cells": [
  {
   "cell_type": "code",
   "execution_count": 16,
   "metadata": {},
   "outputs": [],
   "source": [
    "import re\n",
    "import pandas as pd\n",
    "from Sastrawi.Stemmer.StemmerFactory import StemmerFactory\n",
    "factory = StemmerFactory()\n",
    "stemmer = factory.create_stemmer()\n",
    "import matplotlib.pyplot as plt\n",
    "from wordcloud import WordCloud,STOPWORDS\n",
    "\n",
    "#mulai\n",
    "def preprocessTweet(tweet):\n",
    "    #menjadikan huruf kecil\n",
    "    tweet = tweet.lower()\n",
    "    \n",
    "    #menghapus url\n",
    "    tweet = re.sub('((www\\.[^\\s]+)|(https?://[^\\s]+))','',tweet)\n",
    "    \n",
    "    #menghapus spasi tambahan\n",
    "    tweet = re.sub('[\\s]+', ' ', tweet)\n",
    "    \n",
    "    #menghapus hashtag\n",
    "    tweet = re.sub(r'#([^\\s]+)', r'\\1', tweet)\n",
    "    \n",
    "    #menghapus mention\n",
    "    tweet = re.sub('@[^\\s]+','',tweet)\n",
    "    \n",
    "    #menghapus simbol tidak bermakna\n",
    "    tweet = re.sub('[/\"-.!:?]','',tweet)\n",
    "    \n",
    "    #menghapus huruf berulang\n",
    "    tweet = re.sub(r'(\\w)\\1{2,}', r'\\1', tweet)\n",
    "    \n",
    "    #trim\n",
    "    tweet = tweet.strip('\\'\"22')\n",
    "    \n",
    "    #menjadikan kata dasar kata\n",
    "    tweet = stemmer.stem(tweet)\n",
    "    \n",
    "    return tweet\n",
    "#end"
   ]
  },
  {
   "cell_type": "code",
   "execution_count": 17,
   "metadata": {},
   "outputs": [
    {
     "data": {
      "text/html": [
       "<div>\n",
       "<style scoped>\n",
       "    .dataframe tbody tr th:only-of-type {\n",
       "        vertical-align: middle;\n",
       "    }\n",
       "\n",
       "    .dataframe tbody tr th {\n",
       "        vertical-align: top;\n",
       "    }\n",
       "\n",
       "    .dataframe thead th {\n",
       "        text-align: right;\n",
       "    }\n",
       "</style>\n",
       "<table border=\"1\" class=\"dataframe\">\n",
       "  <thead>\n",
       "    <tr style=\"text-align: right;\">\n",
       "      <th></th>\n",
       "      <th>tweet</th>\n",
       "      <th>sentimen</th>\n",
       "    </tr>\n",
       "    <tr>\n",
       "      <th>No</th>\n",
       "      <th></th>\n",
       "      <th></th>\n",
       "    </tr>\n",
       "  </thead>\n",
       "  <tbody>\n",
       "    <tr>\n",
       "      <th>1</th>\n",
       "      <td>min gimana caranya pesan tiket online?</td>\n",
       "      <td>netral</td>\n",
       "    </tr>\n",
       "    <tr>\n",
       "      <th>2</th>\n",
       "      <td>Bangku di stasiun malang jelek</td>\n",
       "      <td>negatif</td>\n",
       "    </tr>\n",
       "    <tr>\n",
       "      <th>3</th>\n",
       "      <td>Petugas di gerbong 2 tidak ramah</td>\n",
       "      <td>negatif</td>\n",
       "    </tr>\n",
       "    <tr>\n",
       "      <th>4</th>\n",
       "      <td>nasi gorengnya asin</td>\n",
       "      <td>negatif</td>\n",
       "    </tr>\n",
       "    <tr>\n",
       "      <th>5</th>\n",
       "      <td>fasilitas di kereta logawa sangat bagusss</td>\n",
       "      <td>positif</td>\n",
       "    </tr>\n",
       "    <tr>\n",
       "      <th>6</th>\n",
       "      <td>petugasnya cantik cantik banget</td>\n",
       "      <td>positif</td>\n",
       "    </tr>\n",
       "    <tr>\n",
       "      <th>7</th>\n",
       "      <td>apakah bisa makan di dalam kereta?</td>\n",
       "      <td>netral</td>\n",
       "    </tr>\n",
       "    <tr>\n",
       "      <th>8</th>\n",
       "      <td>makanannya enak</td>\n",
       "      <td>positif</td>\n",
       "    </tr>\n",
       "    <tr>\n",
       "      <th>9</th>\n",
       "      <td>tidak enak</td>\n",
       "      <td>negatif</td>\n",
       "    </tr>\n",
       "    <tr>\n",
       "      <th>10</th>\n",
       "      <td>cukup bagus ada fasilitas musholla</td>\n",
       "      <td>positif</td>\n",
       "    </tr>\n",
       "  </tbody>\n",
       "</table>\n",
       "</div>"
      ],
      "text/plain": [
       "                                        tweet sentimen\n",
       "No                                                    \n",
       "1      min gimana caranya pesan tiket online?   netral\n",
       "2              Bangku di stasiun malang jelek  negatif\n",
       "3            Petugas di gerbong 2 tidak ramah  negatif\n",
       "4                         nasi gorengnya asin  negatif\n",
       "5   fasilitas di kereta logawa sangat bagusss  positif\n",
       "6             petugasnya cantik cantik banget  positif\n",
       "7          apakah bisa makan di dalam kereta?   netral\n",
       "8                             makanannya enak  positif\n",
       "9                                  tidak enak  negatif\n",
       "10         cukup bagus ada fasilitas musholla  positif"
      ]
     },
     "execution_count": 17,
     "metadata": {},
     "output_type": "execute_result"
    }
   ],
   "source": [
    "#open csv file\n",
    "data = pd.read_csv('excel/contohdata.csv', delimiter=',', index_col=0)\n",
    "data"
   ]
  },
  {
   "cell_type": "code",
   "execution_count": null,
   "metadata": {},
   "outputs": [],
   "source": []
  },
  {
   "cell_type": "code",
   "execution_count": 18,
   "metadata": {},
   "outputs": [],
   "source": [
    "kamus = pd.read_csv('excel/contohkamus.csv', delimiter=',')\n",
    "#kamus"
   ]
  },
  {
   "cell_type": "code",
   "execution_count": 19,
   "metadata": {},
   "outputs": [],
   "source": [
    "n = 0\n",
    "kata = []\n",
    "nilai = []\n",
    "for row in kamus['kata']:\n",
    "    kata.append(row)\n",
    "    n+=1\n",
    "for row in kamus['nilai']:\n",
    "    nilai.append(row)\n",
    "    n+=1"
   ]
  },
  {
   "cell_type": "code",
   "execution_count": 20,
   "metadata": {},
   "outputs": [
    {
     "name": "stdout",
     "output_type": "stream",
     "text": [
      "['gimana', 'enak', 'apakah', 'bagus', 'pesan', 'cara', 'tiket', 'bangku', 'di', 'stasiun', 'petugas', 'gerbong', 'tidak', 'ramah', 'nasi', 'goreng', 'asin', 'fasilitas', 'kereta', 'sangat', 'cantik', 'banget', 'bisa', 'makan', 'dalam', 'cukup', 'jelek']\n"
     ]
    }
   ],
   "source": [
    "print(kata)"
   ]
  },
  {
   "cell_type": "code",
   "execution_count": 21,
   "metadata": {},
   "outputs": [
    {
     "name": "stdout",
     "output_type": "stream",
     "text": [
      "[0, 1, 0, 1, 0, 0, 0, 0, 0, 0, 0, 0, -1, 1, 0, 0, -1, 0, 0, 0, 1, 0, 1, 0, 0, 0, -1]\n"
     ]
    }
   ],
   "source": [
    "print(nilai)"
   ]
  },
  {
   "cell_type": "code",
   "execution_count": 22,
   "metadata": {},
   "outputs": [
    {
     "name": "stdout",
     "output_type": "stream",
     "text": [
      "{'gimana': 0, 'enak': 1, 'apakah': 0, 'bagus': 1, 'pesan': 0, 'cara': 0, 'tiket': 0, 'bangku': 0, 'di': 0, 'stasiun': 0, 'petugas': 0, 'gerbong': 0, 'tidak': -1, 'ramah': 1, 'nasi': 0, 'goreng': 0, 'asin': -1, 'fasilitas': 0, 'kereta': 0, 'sangat': 0, 'cantik': 1, 'banget': 0, 'bisa': 1, 'makan': 0, 'dalam': 0, 'cukup': 0, 'jelek': -1}\n"
     ]
    }
   ],
   "source": [
    "lexicon = {}\n",
    "index = 0\n",
    "for row in kata:\n",
    "    lexicon[row] = nilai[index]\n",
    "    index+=1\n",
    "print(lexicon)"
   ]
  },
  {
   "cell_type": "code",
   "execution_count": null,
   "metadata": {},
   "outputs": [],
   "source": []
  },
  {
   "cell_type": "code",
   "execution_count": 23,
   "metadata": {},
   "outputs": [
    {
     "name": "stdout",
     "output_type": "stream",
     "text": [
      "negatif\n"
     ]
    }
   ],
   "source": [
    "a = 'min gimana caranya jelek pesan tiket online'\n",
    "score = 0\n",
    "for word in a.split():\n",
    "    #print(word)\n",
    "    if word in lexicon:\n",
    "        score = score + lexicon[word]\n",
    "        #print(word)\n",
    "        #print(lexicon[word])\n",
    "if (score > 0):\n",
    "    print('positif')\n",
    "elif(score < 0):\n",
    "    print('negatif')\n",
    "else:\n",
    "    print('netral')"
   ]
  },
  {
   "cell_type": "code",
   "execution_count": 24,
   "metadata": {},
   "outputs": [
    {
     "ename": "NameError",
     "evalue": "name 'dataClean' is not defined",
     "output_type": "error",
     "traceback": [
      "\u001b[1;31m---------------------------------------------------------------------------\u001b[0m",
      "\u001b[1;31mNameError\u001b[0m                                 Traceback (most recent call last)",
      "\u001b[1;32m<ipython-input-24-5080ff5d831e>\u001b[0m in \u001b[0;36m<module>\u001b[1;34m()\u001b[0m\n\u001b[1;32m----> 1\u001b[1;33m \u001b[0mprint\u001b[0m\u001b[1;33m(\u001b[0m\u001b[0mdataClean\u001b[0m\u001b[1;33m)\u001b[0m\u001b[1;33m\u001b[0m\u001b[0m\n\u001b[0m",
      "\u001b[1;31mNameError\u001b[0m: name 'dataClean' is not defined"
     ]
    }
   ],
   "source": [
    "print(dataClean)"
   ]
  },
  {
   "cell_type": "code",
   "execution_count": 25,
   "metadata": {},
   "outputs": [
    {
     "name": "stdout",
     "output_type": "stream",
     "text": [
      "netral 0\n",
      "negatif -1\n",
      "netral 0\n",
      "negatif -1\n",
      "positif 1\n",
      "positif 2\n",
      "positif 1\n",
      "positif 1\n",
      "netral 0\n",
      "positif 1\n"
     ]
    }
   ],
   "source": [
    "dataClean = {}\n",
    "ng = 0\n",
    "po = 0\n",
    "nt = 0\n",
    "for tweet in data['tweet']:\n",
    "    preprocessedTweet = preprocessTweet(tweet)\n",
    "    #print(preprocessedTweet.split())\n",
    "    #print(preprocessedTweet)\n",
    "    score = 0\n",
    "    for word in preprocessedTweet.split():\n",
    "        #print(word)\n",
    "        if word in lexicon:\n",
    "            score = score + lexicon[word]\n",
    "            #print(word)\n",
    "            #print(lexicon[word])\n",
    "    if (score > 0):\n",
    "        print('positif',score)\n",
    "        po+=1\n",
    "    elif(score < 0):\n",
    "        print('negatif',score)\n",
    "        ng+=1\n",
    "    else:\n",
    "        print('netral',score)\n",
    "        nt+=1"
   ]
  },
  {
   "cell_type": "code",
   "execution_count": 26,
   "metadata": {},
   "outputs": [
    {
     "data": {
      "text/html": [
       "<div>\n",
       "<style scoped>\n",
       "    .dataframe tbody tr th:only-of-type {\n",
       "        vertical-align: middle;\n",
       "    }\n",
       "\n",
       "    .dataframe tbody tr th {\n",
       "        vertical-align: top;\n",
       "    }\n",
       "\n",
       "    .dataframe thead th {\n",
       "        text-align: right;\n",
       "    }\n",
       "</style>\n",
       "<table border=\"1\" class=\"dataframe\">\n",
       "  <thead>\n",
       "    <tr style=\"text-align: right;\">\n",
       "      <th></th>\n",
       "      <th>tweet</th>\n",
       "      <th>sentimen</th>\n",
       "    </tr>\n",
       "    <tr>\n",
       "      <th>No</th>\n",
       "      <th></th>\n",
       "      <th></th>\n",
       "    </tr>\n",
       "  </thead>\n",
       "  <tbody>\n",
       "    <tr>\n",
       "      <th>1</th>\n",
       "      <td>min gimana caranya pesan tiket online?</td>\n",
       "      <td>netral</td>\n",
       "    </tr>\n",
       "    <tr>\n",
       "      <th>2</th>\n",
       "      <td>Bangku di stasiun malang jelek</td>\n",
       "      <td>negatif</td>\n",
       "    </tr>\n",
       "    <tr>\n",
       "      <th>3</th>\n",
       "      <td>Petugas di gerbong 2 tidak ramah</td>\n",
       "      <td>negatif</td>\n",
       "    </tr>\n",
       "    <tr>\n",
       "      <th>4</th>\n",
       "      <td>nasi gorengnya asin</td>\n",
       "      <td>negatif</td>\n",
       "    </tr>\n",
       "    <tr>\n",
       "      <th>5</th>\n",
       "      <td>fasilitas di kereta logawa sangat bagusss</td>\n",
       "      <td>positif</td>\n",
       "    </tr>\n",
       "    <tr>\n",
       "      <th>6</th>\n",
       "      <td>petugasnya cantik cantik banget</td>\n",
       "      <td>positif</td>\n",
       "    </tr>\n",
       "    <tr>\n",
       "      <th>7</th>\n",
       "      <td>apakah bisa makan di dalam kereta?</td>\n",
       "      <td>netral</td>\n",
       "    </tr>\n",
       "    <tr>\n",
       "      <th>8</th>\n",
       "      <td>makanannya enak</td>\n",
       "      <td>positif</td>\n",
       "    </tr>\n",
       "    <tr>\n",
       "      <th>9</th>\n",
       "      <td>tidak enak</td>\n",
       "      <td>negatif</td>\n",
       "    </tr>\n",
       "    <tr>\n",
       "      <th>10</th>\n",
       "      <td>cukup bagus ada fasilitas musholla</td>\n",
       "      <td>positif</td>\n",
       "    </tr>\n",
       "  </tbody>\n",
       "</table>\n",
       "</div>"
      ],
      "text/plain": [
       "                                        tweet sentimen\n",
       "No                                                    \n",
       "1      min gimana caranya pesan tiket online?   netral\n",
       "2              Bangku di stasiun malang jelek  negatif\n",
       "3            Petugas di gerbong 2 tidak ramah  negatif\n",
       "4                         nasi gorengnya asin  negatif\n",
       "5   fasilitas di kereta logawa sangat bagusss  positif\n",
       "6             petugasnya cantik cantik banget  positif\n",
       "7          apakah bisa makan di dalam kereta?   netral\n",
       "8                             makanannya enak  positif\n",
       "9                                  tidak enak  negatif\n",
       "10         cukup bagus ada fasilitas musholla  positif"
      ]
     },
     "execution_count": 26,
     "metadata": {},
     "output_type": "execute_result"
    }
   ],
   "source": [
    "data"
   ]
  },
  {
   "cell_type": "code",
   "execution_count": 27,
   "metadata": {},
   "outputs": [
    {
     "data": {
      "text/plain": [
       "negatif    4\n",
       "positif    4\n",
       "netral     2\n",
       "Name: sentimen, dtype: int64"
      ]
     },
     "execution_count": 27,
     "metadata": {},
     "output_type": "execute_result"
    }
   ],
   "source": [
    "data['sentimen'].value_counts()"
   ]
  },
  {
   "cell_type": "code",
   "execution_count": 28,
   "metadata": {},
   "outputs": [
    {
     "name": "stdout",
     "output_type": "stream",
     "text": [
      "valentino rossi tampak sangat sesal telah jatuh pada lap akhir motogp prancis 2017\n"
     ]
    }
   ],
   "source": [
    "kalimat = 'Valentino Rossi tampak sangat menyesal setelah terjatuh pada lap terakhir MotoGP Prancis 2017'\n",
    "katadasar = stemmer.stem(kalimat)\n",
    " \n",
    "print(katadasar)"
   ]
  },
  {
   "cell_type": "code",
   "execution_count": 29,
   "metadata": {},
   "outputs": [
    {
     "data": {
      "image/png": "[encoded data removed]",
      "text/plain": [
       "<Figure size 1440x720 with 1 Axes>"
      ]
     },
     "metadata": {},
     "output_type": "display_data"
    }
   ],
   "source": [
    "# Initialize the plot\n",
    "fig = plt.figure(figsize=(20,10))\n",
    "ax1 = fig.add_subplot(121)\n",
    "\n",
    "\n",
    "# or replace the three lines of code above by the following line: \n",
    "#fig, (ax1, ax2) = plt.subplots(1,2, figsize=(20,10))\n",
    "\n",
    "# Plot the data\n",
    "ax1.bar(['Negative','Netral','Positif'],[ng,nt,po])\n",
    "\n",
    "\n",
    "# Show the plot\n",
    "plt.show()"
   ]
  },
  {
   "cell_type": "code",
   "execution_count": 30,
   "metadata": {},
   "outputs": [
    {
     "data": {
      "text/html": [
       "<div>\n",
       "<style scoped>\n",
       "    .dataframe tbody tr th:only-of-type {\n",
       "        vertical-align: middle;\n",
       "    }\n",
       "\n",
       "    .dataframe tbody tr th {\n",
       "        vertical-align: top;\n",
       "    }\n",
       "\n",
       "    .dataframe thead th {\n",
       "        text-align: right;\n",
       "    }\n",
       "</style>\n",
       "<table border=\"1\" class=\"dataframe\">\n",
       "  <thead>\n",
       "    <tr style=\"text-align: right;\">\n",
       "      <th></th>\n",
       "      <th>tweet</th>\n",
       "      <th>sentimen</th>\n",
       "    </tr>\n",
       "    <tr>\n",
       "      <th>No</th>\n",
       "      <th></th>\n",
       "      <th></th>\n",
       "    </tr>\n",
       "  </thead>\n",
       "  <tbody>\n",
       "    <tr>\n",
       "      <th>1</th>\n",
       "      <td>min gimana caranya pesan tiket online?</td>\n",
       "      <td>netral</td>\n",
       "    </tr>\n",
       "    <tr>\n",
       "      <th>2</th>\n",
       "      <td>Bangku di stasiun malang jelek</td>\n",
       "      <td>negatif</td>\n",
       "    </tr>\n",
       "    <tr>\n",
       "      <th>3</th>\n",
       "      <td>Petugas di gerbong 2 tidak ramah</td>\n",
       "      <td>negatif</td>\n",
       "    </tr>\n",
       "    <tr>\n",
       "      <th>4</th>\n",
       "      <td>nasi gorengnya asin</td>\n",
       "      <td>negatif</td>\n",
       "    </tr>\n",
       "    <tr>\n",
       "      <th>5</th>\n",
       "      <td>fasilitas di kereta logawa sangat bagusss</td>\n",
       "      <td>positif</td>\n",
       "    </tr>\n",
       "    <tr>\n",
       "      <th>6</th>\n",
       "      <td>petugasnya cantik cantik banget</td>\n",
       "      <td>positif</td>\n",
       "    </tr>\n",
       "    <tr>\n",
       "      <th>7</th>\n",
       "      <td>apakah bisa makan di dalam kereta?</td>\n",
       "      <td>netral</td>\n",
       "    </tr>\n",
       "    <tr>\n",
       "      <th>8</th>\n",
       "      <td>makanannya enak</td>\n",
       "      <td>positif</td>\n",
       "    </tr>\n",
       "    <tr>\n",
       "      <th>9</th>\n",
       "      <td>tidak enak</td>\n",
       "      <td>negatif</td>\n",
       "    </tr>\n",
       "    <tr>\n",
       "      <th>10</th>\n",
       "      <td>cukup bagus ada fasilitas musholla</td>\n",
       "      <td>positif</td>\n",
       "    </tr>\n",
       "  </tbody>\n",
       "</table>\n",
       "</div>"
      ],
      "text/plain": [
       "                                        tweet sentimen\n",
       "No                                                    \n",
       "1      min gimana caranya pesan tiket online?   netral\n",
       "2              Bangku di stasiun malang jelek  negatif\n",
       "3            Petugas di gerbong 2 tidak ramah  negatif\n",
       "4                         nasi gorengnya asin  negatif\n",
       "5   fasilitas di kereta logawa sangat bagusss  positif\n",
       "6             petugasnya cantik cantik banget  positif\n",
       "7          apakah bisa makan di dalam kereta?   netral\n",
       "8                             makanannya enak  positif\n",
       "9                                  tidak enak  negatif\n",
       "10         cukup bagus ada fasilitas musholla  positif"
      ]
     },
     "execution_count": 30,
     "metadata": {},
     "output_type": "execute_result"
    }
   ],
   "source": [
    "data"
   ]
  },
  {
   "cell_type": "code",
   "execution_count": 31,
   "metadata": {},
   "outputs": [],
   "source": [
    "from sklearn.model_selection import train_test_split\n",
    "X_train, X_test, Y_train , Y_test= train_test_split(data['tweet'], data['sentimen'], random_state=0)"
   ]
  },
  {
   "cell_type": "code",
   "execution_count": 32,
   "metadata": {},
   "outputs": [
    {
     "data": {
      "text/plain": [
       "Int64Index([10, 2, 7, 8, 4, 1, 6], dtype='int64', name='No')"
      ]
     },
     "execution_count": 32,
     "metadata": {},
     "output_type": "execute_result"
    }
   ],
   "source": [
    "indeces = X_train.index"
   ]
  },
  {
   "cell_type": "code",
   "execution_count": 33,
   "metadata": {},
   "outputs": [
    {
     "data": {
      "text/plain": [
       "Int64Index([3, 9, 5], dtype='int64', name='No')"
      ]
     },
     "execution_count": 33,
     "metadata": {},
     "output_type": "execute_result"
    }
   ],
   "source": [
    "X_test.index"
   ]
  },
  {
   "cell_type": "code",
   "execution_count": 34,
   "metadata": {},
   "outputs": [
    {
     "data": {
      "text/plain": [
       "'cukup bagus ada fasilitas musholla'"
      ]
     },
     "execution_count": 34,
     "metadata": {},
     "output_type": "execute_result"
    }
   ],
   "source": [
    "X_train.iloc[0]"
   ]
  },
  {
   "cell_type": "code",
   "execution_count": 35,
   "metadata": {},
   "outputs": [
    {
     "data": {
      "text/plain": [
       "7"
      ]
     },
     "execution_count": 35,
     "metadata": {},
     "output_type": "execute_result"
    }
   ],
   "source": [
    "len(X_train)"
   ]
  },
  {
   "cell_type": "code",
   "execution_count": 42,
   "metadata": {},
   "outputs": [],
   "source": [
    "positif = data[data['sentimen'] == 1]\n",
    "positif = data['tweet']"
   ]
  },
  {
   "cell_type": "code",
   "execution_count": 43,
   "metadata": {},
   "outputs": [
    {
     "name": "stdout",
     "output_type": "stream",
     "text": [
      "\n"
     ]
    },
    {
     "data": {
      "image/png": "[encoded data removed]",
      "text/plain": [
       "<Figure size 936x936 with 1 Axes>"
      ]
     },
     "metadata": {},
     "output_type": "display_data"
    }
   ],
   "source": [
    "def draw_wordcloud(data, color = 'black'):\n",
    "    words=' '.join(data)\n",
    "    cleaned_word = \" \".join([word for word in words.split()])\n",
    "    wordcloud = WordCloud(stopwords=STOPWORDS,\n",
    "                         background_color=color,\n",
    "                         width=2500,\n",
    "                         height=2000\n",
    "                         ).generate(cleaned_word)\n",
    "    plt.figure(1, figsize=(13, 13))\n",
    "    plt.imshow(wordcloud)\n",
    "    plt.axis('off')\n",
    "    plt.show()\n",
    "    \n",
    "print('')\n",
    "draw_wordcloud(positif, 'white')"
   ]
  },
  {
   "cell_type": "code",
   "execution_count": null,
   "metadata": {},
   "outputs": [],
   "source": []
  }
 ],
 "metadata": {
  "kernelspec": {
   "display_name": "Python 3",
   "language": "python",
   "name": "python3"
  },
  "language_info": {
   "codemirror_mode": {
    "name": "ipython",
    "version": 3
   },
   "file_extension": ".py",
   "mimetype": "text/x-python",
   "name": "python",
   "nbconvert_exporter": "python",
   "pygments_lexer": "ipython3",
   "version": "3.6.5"
  }
 },
 "nbformat": 4,
 "nbformat_minor": 2
}
