{
 "cells": [
  {
   "cell_type": "code",
   "execution_count": 4,
   "metadata": {},
   "outputs": [],
   "source": [
    "import re\n",
    "import pandas as pd"
   ]
  },
  {
   "cell_type": "code",
   "execution_count": 5,
   "metadata": {},
   "outputs": [],
   "source": [
    "#mulai\n",
    "def preprocessTweet(tweet):\n",
    "    #menjadikan huruf kecil\n",
    "    tweet = tweet.lower()\n",
    "    \n",
    "    #menghapus url\n",
    "    tweet = re.sub('((www\\.[^\\s]+)|(https?://[^\\s]+))','',tweet)\n",
    "    \n",
    "    #menghapus spasi tambahan\n",
    "    tweet = re.sub('[\\s]+', ' ', tweet)\n",
    "    \n",
    "    #menghapus hashtag\n",
    "    tweet = re.sub(r'#([^\\s]+)', r'\\1', tweet)\n",
    "    \n",
    "    #menghapus mention\n",
    "    tweet = re.sub('@[^\\s]+','',tweet)\n",
    "    \n",
    "    #menghapus simbol tidak bermakna\n",
    "    tweet = re.sub('[/\"-.!:?]','',tweet)\n",
    "    \n",
    "    #menghapus huruf berulang\n",
    "    tweet = re.sub(r'(\\w)\\1{2,}', r'\\1', tweet)\n",
    "    \n",
    "    #trim\n",
    "    tweet = tweet.strip('\\'\"22')\n",
    "    return tweet\n",
    "#end"
   ]
  },
  {
   "cell_type": "code",
   "execution_count": 8,
   "metadata": {},
   "outputs": [
    {
     "name": "stdout",
     "output_type": "stream",
     "text": [
      "0                   @KAI121 Apakah masih cukup banyak?\n",
      "1     #tanya #KAI #121 KRD tujuan Stasiun Waru ke S...\n",
      "2    @KAI121 mau tanya untuk kereta ekonomi majapah...\n",
      "3    @KAI121 @CommuterLine @krlmania ada apa nih ka...\n",
      "4    @KAI121 saat ini pembangunan double track purw...\n",
      "5    @KAI121 min kalau mau ubah jadwal keberangkata...\n",
      "6    @KAI121 Kalau Gajayana Malang-Gambir tanggal b...\n",
      "7    @KAI121 selamat pagi, sya ingin menanyakan u/ ...\n",
      "8    @KAI121 min, mau tanya apakah tiket penataran ...\n",
      "Name: tweet, dtype: object\n"
     ]
    }
   ],
   "source": [
    "#open csv file\n",
    "data = pd.read_csv('jajal.csv', delimiter=',')\n",
    "#data['tweet'].head(9)\n",
    "print(data['tweet'])\n",
    "#fp = open('jajal.csv', 'r')\n",
    "#line = fp.readline()"
   ]
  },
  {
   "cell_type": "code",
   "execution_count": 9,
   "metadata": {},
   "outputs": [
    {
     "name": "stdout",
     "output_type": "stream",
     "text": [
      " apakah masih cukup banyak\n",
      " tanya kai 121 krd tujuan stasiun waru ke stasiun babat untuk hari ini apakah masih tersedia tiket dgn tempat duduk\n",
      " mau tanya untuk kereta ekonomi majapahit tujuan stasiun malangpasar senen itu kan tempat duduknya 22 itu menghadap kedepan semua seperti ekonomi premium atau berhadap2an seperti kereta kutojaya misalnya thanks\n",
      "   ada apa nih kajj pada telat kayaknya 1321a ditahan dicikarang 2katambun 1kaentah nanti bekasi cakung jatinegara\n",
      " saat ini pembangunan double track purwokertokutoarjo usul kalo kereta berhenti rada lama karena silang dengan kereta lain ada pemberitahuan dari petugas di ka\n",
      " min kalau mau ubah jadwal keberangkatan tiket jarak jauh bisa revisi via call center ga min\n",
      " kalau gajayana malanggambir tanggal berapa ya semoga waktu tempuhnya bisa dipercepat lagikarena dengan harga tiket pesawat malangjakarta tidak terpaut jauh\n",
      " selamat pagi sya ingin menanyakan u rescedule tiket itu bagaimana terus apakah dikenakan biaya saya pembelian 2 tiket seharga 200 rb mau sya rescedule dg harga 370 rb sama u 2 tiket juga berarti saya harus menambah biaya lg berapa thanks\n",
      " min mau tanya apakah tiket penataran doho malang ke kediri tgl 2 oktober masih tersedia tempat duduk \n"
     ]
    }
   ],
   "source": [
    "for tweet in data['tweet']:\n",
    "    preprocessedTweet = preprocessTweet(tweet)\n",
    "    print(preprocessedTweet)"
   ]
  },
  {
   "cell_type": "code",
   "execution_count": null,
   "metadata": {},
   "outputs": [],
   "source": []
  }
 ],
 "metadata": {
  "kernelspec": {
   "display_name": "Python 3",
   "language": "python",
   "name": "python3"
  },
  "language_info": {
   "codemirror_mode": {
    "name": "ipython",
    "version": 3
   },
   "file_extension": ".py",
   "mimetype": "text/x-python",
   "name": "python",
   "nbconvert_exporter": "python",
   "pygments_lexer": "ipython3",
   "version": "3.6.5"
  }
 },
 "nbformat": 4,
 "nbformat_minor": 2
}
