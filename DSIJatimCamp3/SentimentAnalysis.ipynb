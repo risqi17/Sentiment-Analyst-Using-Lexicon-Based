{
 "cells": [
  {
   "cell_type": "code",
   "execution_count": 6,
   "metadata": {},
   "outputs": [],
   "source": [
    "import pandas as pd\n",
    "import numpy as np\n",
    "from sklearn.feature_extraction.text import TfidfVectorizer #menghitung kata sentiment\n",
    "from sklearn.metrics import roc_auc_score\n",
    "from sklearn.naive_bayes import MultinomialNB\n",
    "from sklearn.metrics import confusion_matrix\n",
    "from sklearn.metrics import accuracy_score\n",
    "from wordcloud import WordCloud, STOPWORDS\n",
    "import matplotlib.pyplot as plt\n",
    "%matplotlib inline\n"
   ]
  },
  {
   "cell_type": "code",
   "execution_count": 8,
   "metadata": {},
   "outputs": [],
   "source": [
    "df = pd.read_csv('british.csv', delimiter = ';')"
   ]
  },
  {
   "cell_type": "code",
   "execution_count": 9,
   "metadata": {},
   "outputs": [
    {
     "data": {
      "text/html": [
       "<div>\n",
       "<style scoped>\n",
       "    .dataframe tbody tr th:only-of-type {\n",
       "        vertical-align: middle;\n",
       "    }\n",
       "\n",
       "    .dataframe tbody tr th {\n",
       "        vertical-align: top;\n",
       "    }\n",
       "\n",
       "    .dataframe thead th {\n",
       "        text-align: right;\n",
       "    }\n",
       "</style>\n",
       "<table border=\"1\" class=\"dataframe\">\n",
       "  <thead>\n",
       "    <tr style=\"text-align: right;\">\n",
       "      <th></th>\n",
       "      <th>airlines</th>\n",
       "      <th>date_post</th>\n",
       "      <th>text</th>\n",
       "      <th>sentiment</th>\n",
       "    </tr>\n",
       "  </thead>\n",
       "  <tbody>\n",
       "    <tr>\n",
       "      <th>0</th>\n",
       "      <td>british-airways</td>\n",
       "      <td>2018-09-12</td>\n",
       "      <td>|  London Heathrow to Dubai. This was the fir...</td>\n",
       "      <td>POSITIVE</td>\n",
       "    </tr>\n",
       "    <tr>\n",
       "      <th>1</th>\n",
       "      <td>british-airways</td>\n",
       "      <td>2018-09-11</td>\n",
       "      <td>|  Heraklion to Gatwick. Left my luggage behi...</td>\n",
       "      <td>NEGATIVE</td>\n",
       "    </tr>\n",
       "    <tr>\n",
       "      <th>2</th>\n",
       "      <td>british-airways</td>\n",
       "      <td>2018-09-10</td>\n",
       "      <td>| Flew Madrid to London Heathrow. The 767 is ...</td>\n",
       "      <td>POSITIVE</td>\n",
       "    </tr>\n",
       "    <tr>\n",
       "      <th>3</th>\n",
       "      <td>british-airways</td>\n",
       "      <td>2018-09-10</td>\n",
       "      <td>|  London Heathrow to Brindisi. We weren’t ex...</td>\n",
       "      <td>NEGATIVE</td>\n",
       "    </tr>\n",
       "    <tr>\n",
       "      <th>4</th>\n",
       "      <td>british-airways</td>\n",
       "      <td>2018-09-08</td>\n",
       "      <td>| I have BA silver membership. This promises ...</td>\n",
       "      <td>NEGATIVE</td>\n",
       "    </tr>\n",
       "  </tbody>\n",
       "</table>\n",
       "</div>"
      ],
      "text/plain": [
       "          airlines   date_post  \\\n",
       "0  british-airways  2018-09-12   \n",
       "1  british-airways  2018-09-11   \n",
       "2  british-airways  2018-09-10   \n",
       "3  british-airways  2018-09-10   \n",
       "4  british-airways  2018-09-08   \n",
       "\n",
       "                                                text sentiment  \n",
       "0   |  London Heathrow to Dubai. This was the fir...  POSITIVE  \n",
       "1   |  Heraklion to Gatwick. Left my luggage behi...  NEGATIVE  \n",
       "2   | Flew Madrid to London Heathrow. The 767 is ...  POSITIVE  \n",
       "3   |  London Heathrow to Brindisi. We weren’t ex...  NEGATIVE  \n",
       "4   | I have BA silver membership. This promises ...  NEGATIVE  "
      ]
     },
     "execution_count": 9,
     "metadata": {},
     "output_type": "execute_result"
    }
   ],
   "source": [
    "df.head(5)"
   ]
  },
  {
   "cell_type": "code",
   "execution_count": 11,
   "metadata": {},
   "outputs": [
    {
     "data": {
      "text/plain": [
       "(2610, 4)"
      ]
     },
     "execution_count": 11,
     "metadata": {},
     "output_type": "execute_result"
    }
   ],
   "source": [
    "df.shape\n"
   ]
  },
  {
   "cell_type": "code",
   "execution_count": 12,
   "metadata": {},
   "outputs": [
    {
     "data": {
      "text/plain": [
       "NEGATIVE    1439\n",
       "POSITIVE    1171\n",
       "Name: sentiment, dtype: int64"
      ]
     },
     "execution_count": 12,
     "metadata": {},
     "output_type": "execute_result"
    }
   ],
   "source": [
    "df['sentiment'].value_counts()"
   ]
  },
  {
   "cell_type": "code",
   "execution_count": 15,
   "metadata": {},
   "outputs": [],
   "source": [
    "df['text'] = df['text'].map(lambda x: x.lstrip(' | '))\n",
    "#lstrip = left strip"
   ]
  },
  {
   "cell_type": "code",
   "execution_count": 17,
   "metadata": {},
   "outputs": [
    {
     "data": {
      "text/html": [
       "<div>\n",
       "<style scoped>\n",
       "    .dataframe tbody tr th:only-of-type {\n",
       "        vertical-align: middle;\n",
       "    }\n",
       "\n",
       "    .dataframe tbody tr th {\n",
       "        vertical-align: top;\n",
       "    }\n",
       "\n",
       "    .dataframe thead th {\n",
       "        text-align: right;\n",
       "    }\n",
       "</style>\n",
       "<table border=\"1\" class=\"dataframe\">\n",
       "  <thead>\n",
       "    <tr style=\"text-align: right;\">\n",
       "      <th></th>\n",
       "      <th>airlines</th>\n",
       "      <th>date_post</th>\n",
       "      <th>text</th>\n",
       "      <th>sentiment</th>\n",
       "    </tr>\n",
       "  </thead>\n",
       "  <tbody>\n",
       "    <tr>\n",
       "      <th>0</th>\n",
       "      <td>british-airways</td>\n",
       "      <td>2018-09-12</td>\n",
       "      <td>London Heathrow to Dubai. This was the first t...</td>\n",
       "      <td>POSITIVE</td>\n",
       "    </tr>\n",
       "    <tr>\n",
       "      <th>1</th>\n",
       "      <td>british-airways</td>\n",
       "      <td>2018-09-11</td>\n",
       "      <td>Heraklion to Gatwick. Left my luggage behind o...</td>\n",
       "      <td>NEGATIVE</td>\n",
       "    </tr>\n",
       "    <tr>\n",
       "      <th>2</th>\n",
       "      <td>british-airways</td>\n",
       "      <td>2018-09-10</td>\n",
       "      <td>Flew Madrid to London Heathrow. The 767 is anc...</td>\n",
       "      <td>POSITIVE</td>\n",
       "    </tr>\n",
       "    <tr>\n",
       "      <th>3</th>\n",
       "      <td>british-airways</td>\n",
       "      <td>2018-09-10</td>\n",
       "      <td>London Heathrow to Brindisi. We weren’t expect...</td>\n",
       "      <td>NEGATIVE</td>\n",
       "    </tr>\n",
       "    <tr>\n",
       "      <th>4</th>\n",
       "      <td>british-airways</td>\n",
       "      <td>2018-09-08</td>\n",
       "      <td>I have BA silver membership. This promises fas...</td>\n",
       "      <td>NEGATIVE</td>\n",
       "    </tr>\n",
       "    <tr>\n",
       "      <th>5</th>\n",
       "      <td>british-airways</td>\n",
       "      <td>2018-09-08</td>\n",
       "      <td>Hamburg to London. Initial flight from London ...</td>\n",
       "      <td>NEGATIVE</td>\n",
       "    </tr>\n",
       "    <tr>\n",
       "      <th>6</th>\n",
       "      <td>british-airways</td>\n",
       "      <td>2018-09-07</td>\n",
       "      <td>Glasgow to Miami via London. Glasgow to Heathr...</td>\n",
       "      <td>POSITIVE</td>\n",
       "    </tr>\n",
       "    <tr>\n",
       "      <th>7</th>\n",
       "      <td>british-airways</td>\n",
       "      <td>2018-09-06</td>\n",
       "      <td>London Heathrow to Budapest. After so much dis...</td>\n",
       "      <td>POSITIVE</td>\n",
       "    </tr>\n",
       "    <tr>\n",
       "      <th>8</th>\n",
       "      <td>british-airways</td>\n",
       "      <td>2018-09-05</td>\n",
       "      <td>Budapest to London Heathrow. The flight depart...</td>\n",
       "      <td>POSITIVE</td>\n",
       "    </tr>\n",
       "    <tr>\n",
       "      <th>9</th>\n",
       "      <td>british-airways</td>\n",
       "      <td>2018-09-03</td>\n",
       "      <td>London to Toronto. Group of 10 people age from...</td>\n",
       "      <td>POSITIVE</td>\n",
       "    </tr>\n",
       "  </tbody>\n",
       "</table>\n",
       "</div>"
      ],
      "text/plain": [
       "          airlines   date_post  \\\n",
       "0  british-airways  2018-09-12   \n",
       "1  british-airways  2018-09-11   \n",
       "2  british-airways  2018-09-10   \n",
       "3  british-airways  2018-09-10   \n",
       "4  british-airways  2018-09-08   \n",
       "5  british-airways  2018-09-08   \n",
       "6  british-airways  2018-09-07   \n",
       "7  british-airways  2018-09-06   \n",
       "8  british-airways  2018-09-05   \n",
       "9  british-airways  2018-09-03   \n",
       "\n",
       "                                                text sentiment  \n",
       "0  London Heathrow to Dubai. This was the first t...  POSITIVE  \n",
       "1  Heraklion to Gatwick. Left my luggage behind o...  NEGATIVE  \n",
       "2  Flew Madrid to London Heathrow. The 767 is anc...  POSITIVE  \n",
       "3  London Heathrow to Brindisi. We weren’t expect...  NEGATIVE  \n",
       "4  I have BA silver membership. This promises fas...  NEGATIVE  \n",
       "5  Hamburg to London. Initial flight from London ...  NEGATIVE  \n",
       "6  Glasgow to Miami via London. Glasgow to Heathr...  POSITIVE  \n",
       "7  London Heathrow to Budapest. After so much dis...  POSITIVE  \n",
       "8  Budapest to London Heathrow. The flight depart...  POSITIVE  \n",
       "9  London to Toronto. Group of 10 people age from...  POSITIVE  "
      ]
     },
     "execution_count": 17,
     "metadata": {},
     "output_type": "execute_result"
    }
   ],
   "source": [
    "df.head(10)"
   ]
  },
  {
   "cell_type": "code",
   "execution_count": 18,
   "metadata": {},
   "outputs": [],
   "source": [
    "df['sentiment'] = df['sentiment'].replace({'POSITIVE': 1, 'NEGATIVE': 0})"
   ]
  },
  {
   "cell_type": "code",
   "execution_count": 19,
   "metadata": {},
   "outputs": [
    {
     "data": {
      "text/html": [
       "<div>\n",
       "<style scoped>\n",
       "    .dataframe tbody tr th:only-of-type {\n",
       "        vertical-align: middle;\n",
       "    }\n",
       "\n",
       "    .dataframe tbody tr th {\n",
       "        vertical-align: top;\n",
       "    }\n",
       "\n",
       "    .dataframe thead th {\n",
       "        text-align: right;\n",
       "    }\n",
       "</style>\n",
       "<table border=\"1\" class=\"dataframe\">\n",
       "  <thead>\n",
       "    <tr style=\"text-align: right;\">\n",
       "      <th></th>\n",
       "      <th>airlines</th>\n",
       "      <th>date_post</th>\n",
       "      <th>text</th>\n",
       "      <th>sentiment</th>\n",
       "    </tr>\n",
       "  </thead>\n",
       "  <tbody>\n",
       "    <tr>\n",
       "      <th>0</th>\n",
       "      <td>british-airways</td>\n",
       "      <td>2018-09-12</td>\n",
       "      <td>London Heathrow to Dubai. This was the first t...</td>\n",
       "      <td>1</td>\n",
       "    </tr>\n",
       "    <tr>\n",
       "      <th>1</th>\n",
       "      <td>british-airways</td>\n",
       "      <td>2018-09-11</td>\n",
       "      <td>Heraklion to Gatwick. Left my luggage behind o...</td>\n",
       "      <td>0</td>\n",
       "    </tr>\n",
       "    <tr>\n",
       "      <th>2</th>\n",
       "      <td>british-airways</td>\n",
       "      <td>2018-09-10</td>\n",
       "      <td>Flew Madrid to London Heathrow. The 767 is anc...</td>\n",
       "      <td>1</td>\n",
       "    </tr>\n",
       "    <tr>\n",
       "      <th>3</th>\n",
       "      <td>british-airways</td>\n",
       "      <td>2018-09-10</td>\n",
       "      <td>London Heathrow to Brindisi. We weren’t expect...</td>\n",
       "      <td>0</td>\n",
       "    </tr>\n",
       "    <tr>\n",
       "      <th>4</th>\n",
       "      <td>british-airways</td>\n",
       "      <td>2018-09-08</td>\n",
       "      <td>I have BA silver membership. This promises fas...</td>\n",
       "      <td>0</td>\n",
       "    </tr>\n",
       "    <tr>\n",
       "      <th>5</th>\n",
       "      <td>british-airways</td>\n",
       "      <td>2018-09-08</td>\n",
       "      <td>Hamburg to London. Initial flight from London ...</td>\n",
       "      <td>0</td>\n",
       "    </tr>\n",
       "    <tr>\n",
       "      <th>6</th>\n",
       "      <td>british-airways</td>\n",
       "      <td>2018-09-07</td>\n",
       "      <td>Glasgow to Miami via London. Glasgow to Heathr...</td>\n",
       "      <td>1</td>\n",
       "    </tr>\n",
       "    <tr>\n",
       "      <th>7</th>\n",
       "      <td>british-airways</td>\n",
       "      <td>2018-09-06</td>\n",
       "      <td>London Heathrow to Budapest. After so much dis...</td>\n",
       "      <td>1</td>\n",
       "    </tr>\n",
       "    <tr>\n",
       "      <th>8</th>\n",
       "      <td>british-airways</td>\n",
       "      <td>2018-09-05</td>\n",
       "      <td>Budapest to London Heathrow. The flight depart...</td>\n",
       "      <td>1</td>\n",
       "    </tr>\n",
       "    <tr>\n",
       "      <th>9</th>\n",
       "      <td>british-airways</td>\n",
       "      <td>2018-09-03</td>\n",
       "      <td>London to Toronto. Group of 10 people age from...</td>\n",
       "      <td>1</td>\n",
       "    </tr>\n",
       "  </tbody>\n",
       "</table>\n",
       "</div>"
      ],
      "text/plain": [
       "          airlines   date_post  \\\n",
       "0  british-airways  2018-09-12   \n",
       "1  british-airways  2018-09-11   \n",
       "2  british-airways  2018-09-10   \n",
       "3  british-airways  2018-09-10   \n",
       "4  british-airways  2018-09-08   \n",
       "5  british-airways  2018-09-08   \n",
       "6  british-airways  2018-09-07   \n",
       "7  british-airways  2018-09-06   \n",
       "8  british-airways  2018-09-05   \n",
       "9  british-airways  2018-09-03   \n",
       "\n",
       "                                                text  sentiment  \n",
       "0  London Heathrow to Dubai. This was the first t...          1  \n",
       "1  Heraklion to Gatwick. Left my luggage behind o...          0  \n",
       "2  Flew Madrid to London Heathrow. The 767 is anc...          1  \n",
       "3  London Heathrow to Brindisi. We weren’t expect...          0  \n",
       "4  I have BA silver membership. This promises fas...          0  \n",
       "5  Hamburg to London. Initial flight from London ...          0  \n",
       "6  Glasgow to Miami via London. Glasgow to Heathr...          1  \n",
       "7  London Heathrow to Budapest. After so much dis...          1  \n",
       "8  Budapest to London Heathrow. The flight depart...          1  \n",
       "9  London to Toronto. Group of 10 people age from...          1  "
      ]
     },
     "execution_count": 19,
     "metadata": {},
     "output_type": "execute_result"
    }
   ],
   "source": [
    "df.head(10)"
   ]
  },
  {
   "cell_type": "code",
   "execution_count": 21,
   "metadata": {},
   "outputs": [],
   "source": [
    "from sklearn.model_selection import train_test_split \n",
    "X_train, X_test, y_train, y_test = train_test_split(df['text'],\n",
    "                                                    df['sentiment'],\n",
    "                                                    random_state=0)"
   ]
  },
  {
   "cell_type": "code",
   "execution_count": 22,
   "metadata": {},
   "outputs": [
    {
     "data": {
      "text/plain": [
       "Int64Index([2060, 2419,  192, 2531,  913, 1101, 2228, 2365, 1543, 2266,\n",
       "            ...\n",
       "            1591,  963, 2514,  305, 2401,  442, 1604,  157, 1831, 2349],\n",
       "           dtype='int64', length=653)"
      ]
     },
     "execution_count": 22,
     "metadata": {},
     "output_type": "execute_result"
    }
   ],
   "source": [
    "X_test.index"
   ]
  },
  {
   "cell_type": "code",
   "execution_count": 23,
   "metadata": {},
   "outputs": [
    {
     "name": "stdout",
     "output_type": "stream",
     "text": [
      "1957 653\n"
     ]
    }
   ],
   "source": [
    "print(len(y_train), len(y_test))"
   ]
  },
  {
   "cell_type": "code",
   "execution_count": 24,
   "metadata": {
    "scrolled": true
   },
   "outputs": [
    {
     "name": "stdout",
     "output_type": "stream",
     "text": [
      "X_train first entry:\n",
      "\n",
      " London to Bangkok. I was a bit apprehensive about flying BA Club World due to the bad reviews the airline has received recently. Boarding at Heathrow was well organised due to their group boarding policy. On board I offered a pre Champagne or water. Once airborne choose gin and tonic and cashew nuts. Meal pre ordered online. I found all three courses exceptional and very well cooked. The staff worked tireless right through the twelve hour flight. I know BA Club Seats are not ideal, but nevertheless they are still more comfortable than any Middle East airline I have flown with. Entertainment screen poor and needs urgent revamp, cannot see when lights are on in the cabin. Very nice to see a mixed aged crew that shows ageism does not exist at BA. I also must commend BA for their quick medical response to a passenger who had collapsed on the aircraft in club. There rapid response and actions probably saved his life, I flew on 12 January. Well done BA, you are pulling in the right direction again.\n",
      "\n",
      "\n",
      "X_train shape:  (1957,)\n"
     ]
    }
   ],
   "source": [
    "print('X_train first entry:\\n\\n', X_train.iloc[0])\n",
    "print('\\n\\nX_train shape: ', X_train.shape)"
   ]
  },
  {
   "cell_type": "code",
   "execution_count": 25,
   "metadata": {},
   "outputs": [
    {
     "data": {
      "text/plain": [
       "6127"
      ]
     },
     "execution_count": 25,
     "metadata": {},
     "output_type": "execute_result"
    }
   ],
   "source": [
    "vect = TfidfVectorizer(min_df=5, stop_words='english', use_idf=True, ngram_range=(1,2)).fit(X_train)\n",
    "len(vect.get_feature_names())"
   ]
  },
  {
   "cell_type": "code",
   "execution_count": 27,
   "metadata": {},
   "outputs": [],
   "source": [
    "X_train_vectorized = vect.transform(X_train)"
   ]
  },
  {
   "cell_type": "markdown",
   "metadata": {},
   "source": [
    "# Classification\n"
   ]
  },
  {
   "cell_type": "markdown",
   "metadata": {},
   "source": [
    "# Naive Bayes"
   ]
  },
  {
   "cell_type": "code",
   "execution_count": 29,
   "metadata": {},
   "outputs": [
    {
     "name": "stdout",
     "output_type": "stream",
     "text": [
      "AUC:  0.8459423587409935\n",
      "Confusion Metrix:  [[340  20]\n",
      " [ 74 219]]\n",
      "ACC:  0.8560490045941807\n"
     ]
    }
   ],
   "source": [
    "mnb = MultinomialNB()\n",
    "\n",
    "mnb.fit(X_train_vectorized, y_train) #membuat model\n",
    "predictions = mnb.predict(vect.transform(X_test))\n",
    "#evaluasi\n",
    "print('AUC: ', roc_auc_score(y_test, predictions)) #data yang mirip-mirip antara 1 dan 0 Area Under Curve\n",
    "print('Confusion Metrix: ', confusion_matrix(y_test, predictions)) #\n",
    "print('ACC: ', accuracy_score(y_test, predictions)) #menghitung ketepatan/akurasi dari 653 \n"
   ]
  },
  {
   "cell_type": "markdown",
   "metadata": {},
   "source": [
    "# Visualize"
   ]
  },
  {
   "cell_type": "code",
   "execution_count": null,
   "metadata": {},
   "outputs": [],
   "source": []
  }
 ],
 "metadata": {
  "kernelspec": {
   "display_name": "Python 3",
   "language": "python",
   "name": "python3"
  },
  "language_info": {
   "codemirror_mode": {
    "name": "ipython",
    "version": 3
   },
   "file_extension": ".py",
   "mimetype": "text/x-python",
   "name": "python",
   "nbconvert_exporter": "python",
   "pygments_lexer": "ipython3",
   "version": "3.6.5"
  }
 },
 "nbformat": 4,
 "nbformat_minor": 2
}
